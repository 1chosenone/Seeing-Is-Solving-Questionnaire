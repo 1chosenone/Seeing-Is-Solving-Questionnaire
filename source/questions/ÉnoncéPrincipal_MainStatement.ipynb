{
 "cells": [
  {
   "attachments": {},
   "cell_type": "markdown",
   "metadata": {},
   "source": [
    "# <center>Evident Challenge</center>  \n",
    "# <center>Énoncé principal - Main Statement</center> \n",
    "***"
   ]
  },
  {
   "attachments": {},
   "cell_type": "markdown",
   "metadata": {
    "dotnet_interactive": {
     "language": "csharp"
    },
    "polyglot_notebook": {
     "kernelName": "csharp"
    }
   },
   "source": [
    "Bonjour à tous et bienvenue au Evident Challenge! (Scroll down for English version)\n",
    "\n",
    "\n",
    "**Voici les points importants à savoir concernant cette compétition :**\n",
    "\n",
    "1. Chaque question contindra des critères d'évaluations spécifiques que vous retrouverai dans la grille de correction suivante: **source/correction/GrilleDeCorrection_CorrectionGrid.xlsx**. Vous retrouverai la description de chaque question et les indication sur comment la compléter dans le présent document.\n",
    "\n",
    "2. Certaines questions seront simplement à répondre dans un fichier notebook (.ipynb) et d'autre seront à implémenter dans des fichiers python (.py) directement. Vhaque question vous fournira des indication claires à cet effet.\n",
    "\n",
    "3. Un dossier question peut comprendre une seule ou plusieurs sous-questions.\n",
    "\n",
    "4. Il n'est pas nécéssaire de répondre au questions dans l'ordre, vous pouvez par exemple utiliser des stratégie vous octroyant un maximum de points.\n",
    "\n",
    "5. Il est de votre responsabilité de vous assurer que chaque fichier notebook (.ipynb) est extractable et extracté sur le commit final sous forme de fichier python (.py) car des tests automatisés seront exécutés sur les fichier extractés par les correcteurs. Voici un exemple de la commande pour extracter un fichier python d'un Jupiter Notrebok : \n",
    "\n",
    "***<center>jupyter nbconvert --to script 'ÉnoncéPrincipal_MainStatement.ipynb'</center>***\n",
    "\n",
    "\n",
    "6. Nous vous conseillons d'écrire des tests sur vos réponses contenues dans les fichiers extractés afin de vous assurer de respecter le point précédant.\n",
    "\n",
    "7. Vos fichiers de tests ne seront pas corrigés. \n",
    "\n",
    "8. Le présent fichier (ÉnoncéPrincipal.pynb) ***ne doit pas être modifié***. Si ce fichier est modifié dans votre commit final, votre copie ne sera pas corrigée.\n",
    "\n",
    "9. Pour chacune des question, il vous sera demandé d'implémenter des méthodes que sont déjà définies. ***Ne modifiez pas ces méthodes*** car des tests automatisés seront exécutés sur ces dernières. Si vous modifiez le nom d'une méthode à implémenter, le test automatisé échouera et vous n'aurez aucun point pour cette question. "
   ]
  },
  {
   "attachments": {},
   "cell_type": "markdown",
   "metadata": {
    "dotnet_interactive": {
     "language": "csharp"
    },
    "polyglot_notebook": {
     "kernelName": "csharp"
    }
   },
   "source": [
    "Barème de correction : \n",
    "\n",
    "Niveau de difficulté : 1 à 3 Facile, Moyen, Difficile\n",
    "\n",
    "linter : fournir le fichier \n",
    "\n",
    "architecture : p-e ajouter une question difficile où l'architecture est validé\n",
    "\n",
    "classement au niveau performance  : si c'Est un délais un classement serait fait\n",
    "\n",
    "pointage : à valider \n",
    "\n",
    "\n",
    "\n",
    "\n",
    "\n"
   ]
  },
  {
   "cell_type": "markdown",
   "metadata": {
    "dotnet_interactive": {
     "language": "csharp"
    },
    "polyglot_notebook": {
     "kernelName": "csharp"
    }
   },
   "source": []
  }
 ],
 "metadata": {
  "kernelspec": {
   "display_name": "Python 3",
   "language": "python",
   "name": "python3"
  },
  "language_info": {
   "codemirror_mode": {
    "name": "ipython",
    "version": 3
   },
   "file_extension": ".py",
   "mimetype": "text/x-python",
   "name": "python",
   "nbconvert_exporter": "python",
   "pygments_lexer": "ipython3",
   "version": "3.10.7"
  },
  "polyglot_notebook": {
   "kernelInfo": {
    "defaultKernelName": "csharp",
    "items": [
     {
      "aliases": [
       "c#",
       "C#"
      ],
      "languageName": "C#",
      "name": "csharp"
     },
     {
      "aliases": [],
      "name": ".NET"
     },
     {
      "aliases": [
       "f#",
       "F#"
      ],
      "languageName": "F#",
      "name": "fsharp"
     },
     {
      "aliases": [],
      "languageName": "HTML",
      "name": "html"
     },
     {
      "aliases": [],
      "languageName": "KQL",
      "name": "kql"
     },
     {
      "aliases": [],
      "languageName": "Mermaid",
      "name": "mermaid"
     },
     {
      "aliases": [
       "powershell"
      ],
      "languageName": "PowerShell",
      "name": "pwsh"
     },
     {
      "aliases": [],
      "languageName": "SQL",
      "name": "sql"
     },
     {
      "aliases": [],
      "name": "value"
     },
     {
      "aliases": [
       "frontend"
      ],
      "name": "vscode"
     },
     {
      "aliases": [
       "js"
      ],
      "languageName": "JavaScript",
      "name": "javascript"
     },
     {
      "aliases": [],
      "name": "webview"
     }
    ]
   }
  },
  "vscode": {
   "interpreter": {
    "hash": "369f2c481f4da34e4445cda3fffd2e751bd1c4d706f27375911949ba6bb62e1c"
   }
  }
 },
 "nbformat": 4,
 "nbformat_minor": 2
}
